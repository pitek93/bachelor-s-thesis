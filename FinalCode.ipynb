{
 "cells": [
  {
   "cell_type": "code",
   "execution_count": 26,
   "metadata": {
    "colab": {
     "autoexec": {
      "startup": false,
      "wait_interval": 0
     },
     "base_uri": "https://localhost:8080/",
     "height": 105
    },
    "colab_type": "code",
    "executionInfo": {
     "elapsed": 14440,
     "status": "ok",
     "timestamp": 1530517507069,
     "user": {
      "displayName": "JADE SANJAY",
      "photoUrl": "https://lh3.googleusercontent.com/a/default-user=s128",
      "userId": "113026688115779524991"
     },
     "user_tz": -330
    },
    "id": "Ss8qQMI7CDzu",
    "outputId": "b52184ff-9ce2-4558-f5b7-9300f200973a"
   },
   "outputs": [
    {
     "data": {
      "text/plain": [
       "'\\n!apt-get install -y -qq software-properties-common python-software-properties module-init-tools\\n!add-apt-repository -y ppa:alessandro-strada/ppa 2>&1 > /dev/null\\n!apt-get update -qq 2>&1 > /dev/null\\n!apt-get -y install -qq google-drive-ocamlfuse fuse\\nfrom google.colab import auth\\nauth.authenticate_user()\\nfrom oauth2client.client import GoogleCredentials\\ncreds = GoogleCredentials.get_application_default()\\nimport getpass\\n!google-drive-ocamlfuse -headless -id={creds.client_id} -secret={creds.client_secret} < /dev/null 2>&1 | grep URL\\nvcode = getpass.getpass()\\n!echo {vcode} | google-drive-ocamlfuse -headless -id={creds.client_id} -secret={creds.client_secret}\\n'"
      ]
     },
     "execution_count": 26,
     "metadata": {},
     "output_type": "execute_result"
    }
   ],
   "source": [
    "'''\n",
    "!apt-get install -y -qq software-properties-common python-software-properties module-init-tools\n",
    "!add-apt-repository -y ppa:alessandro-strada/ppa 2>&1 > /dev/null\n",
    "!apt-get update -qq 2>&1 > /dev/null\n",
    "!apt-get -y install -qq google-drive-ocamlfuse fuse\n",
    "from google.colab import auth\n",
    "auth.authenticate_user()\n",
    "from oauth2client.client import GoogleCredentials\n",
    "creds = GoogleCredentials.get_application_default()\n",
    "import getpass\n",
    "!google-drive-ocamlfuse -headless -id={creds.client_id} -secret={creds.client_secret} < /dev/null 2>&1 | grep URL\n",
    "vcode = getpass.getpass()\n",
    "!echo {vcode} | google-drive-ocamlfuse -headless -id={creds.client_id} -secret={creds.client_secret}\n",
    "'''"
   ]
  },
  {
   "cell_type": "code",
   "execution_count": 24,
   "metadata": {
    "colab": {
     "autoexec": {
      "startup": false,
      "wait_interval": 0
     },
     "base_uri": "https://localhost:8080/",
     "height": 17
    },
    "colab_type": "code",
    "executionInfo": {
     "elapsed": 3380,
     "status": "ok",
     "timestamp": 1530517827567,
     "user": {
      "displayName": "JADE SANJAY",
      "photoUrl": "https://lh3.googleusercontent.com/a/default-user=s128",
      "userId": "113026688115779524991"
     },
     "user_tz": -330
    },
    "id": "eG49JrbmCLkh",
    "outputId": "0def07c8-6f98-4078-b4d0-f1e81dbc73ac"
   },
   "outputs": [
    {
     "data": {
      "text/plain": [
       "'\\n!mkdir -p drive\\n!google-drive-ocamlfuse drive\\n'"
      ]
     },
     "execution_count": 24,
     "metadata": {},
     "output_type": "execute_result"
    }
   ],
   "source": [
    "'''\n",
    "!mkdir -p drive\n",
    "!google-drive-ocamlfuse drive\n",
    "'''"
   ]
  },
  {
   "cell_type": "code",
   "execution_count": 27,
   "metadata": {
    "colab": {
     "autoexec": {
      "startup": false,
      "wait_interval": 0
     }
    },
    "colab_type": "code",
    "id": "zElXUf3LCQal"
   },
   "outputs": [
    {
     "ename": "FileNotFoundError",
     "evalue": "[Errno 2] No such file or directory: 'drive/brat'",
     "output_type": "error",
     "traceback": [
      "\u001b[0;31m---------------------------------------------------------------------------\u001b[0m",
      "\u001b[0;31mFileNotFoundError\u001b[0m                         Traceback (most recent call last)",
      "\u001b[0;32m<ipython-input-27-0957112252ba>\u001b[0m in \u001b[0;36m<module>\u001b[0;34m()\u001b[0m\n\u001b[1;32m      1\u001b[0m \u001b[0;32mimport\u001b[0m \u001b[0mos\u001b[0m\u001b[0;34m\u001b[0m\u001b[0m\n\u001b[0;32m----> 2\u001b[0;31m \u001b[0mos\u001b[0m\u001b[0;34m.\u001b[0m\u001b[0mchdir\u001b[0m\u001b[0;34m(\u001b[0m\u001b[0;34m'drive/brat'\u001b[0m\u001b[0;34m)\u001b[0m\u001b[0;34m\u001b[0m\u001b[0m\n\u001b[0m",
      "\u001b[0;31mFileNotFoundError\u001b[0m: [Errno 2] No such file or directory: 'drive/brat'"
     ]
    }
   ],
   "source": [
    "import os\n",
    "os.chdir('drive/brat')"
   ]
  },
  {
   "cell_type": "code",
   "execution_count": 7,
   "metadata": {
    "colab": {
     "autoexec": {
      "startup": false,
      "wait_interval": 0
     },
     "base_uri": "https://localhost:8080/",
     "height": 238
    },
    "colab_type": "code",
    "executionInfo": {
     "elapsed": 2516,
     "status": "ok",
     "timestamp": 1530529611046,
     "user": {
      "displayName": "JADE SANJAY",
      "photoUrl": "https://lh3.googleusercontent.com/a/default-user=s128",
      "userId": "113026688115779524991"
     },
     "user_tz": -330
    },
    "id": "AgKwRmWGCUGe",
    "outputId": "f2a44a50-a1f3-482e-fc88-da4deb910308"
   },
   "outputs": [
    {
     "name": "stdout",
     "output_type": "stream",
     "text": [
      "Brain Tumor Segmentation.odt  slice_126_0\r\n",
      "data.ipynb\t\t      slice_126_1\r\n",
      "data_trial_81.h5\t      slice_126_2\r\n",
      "data_trial_dim2_128.h5\t      slice_126_3\r\n",
      "data_Y_0001.pickle\t      slice_126_GT\r\n",
      "FinalCode.ipynb\t\t      training.ipynb\r\n",
      "HG\t\t\t      trial_0001_2path_acc.h5\r\n",
      "info1_input.h5\t\t      trial_0001_accuracy.h5\r\n",
      "info_mfc.h5\t\t      trial_0001_input_cascasde_acc.h5\r\n",
      "LG\t\t\t      trial_0001_MFCcas_dim2_128_acc.h5\r\n",
      "MFC_cascade_siam.h5\t      trial_MFCcascade_acc.h5\r\n",
      "model.ipynb\t\t      untitled.ipynb\r\n",
      "siamese_training.ipynb\r\n"
     ]
    }
   ],
   "source": [
    "!ls"
   ]
  },
  {
   "cell_type": "code",
   "execution_count": 2,
   "metadata": {
    "colab": {
     "autoexec": {
      "startup": false,
      "wait_interval": 0
     },
     "base_uri": "https://localhost:8080/",
     "height": 34
    },
    "colab_type": "code",
    "executionInfo": {
     "elapsed": 3541,
     "status": "ok",
     "timestamp": 1530529593878,
     "user": {
      "displayName": "JADE SANJAY",
      "photoUrl": "https://lh3.googleusercontent.com/a/default-user=s128",
      "userId": "113026688115779524991"
     },
     "user_tz": -330
    },
    "id": "xsfVccLCCU0H",
    "outputId": "43807a93-7f4c-45b1-9645-38e5e97d9721"
   },
   "outputs": [
    {
     "name": "stdout",
     "output_type": "stream",
     "text": [
      "Requirement already satisfied: SimpleITK in /usr/local/lib/python3.6/dist-packages (1.1.0)\r\n"
     ]
    }
   ],
   "source": [
    "!pip3 install SimpleITK"
   ]
  },
  {
   "cell_type": "code",
   "execution_count": 5,
   "metadata": {
    "colab": {
     "autoexec": {
      "startup": false,
      "wait_interval": 0
     }
    },
    "colab_type": "code",
    "id": "mtOVvsPnC3Us"
   },
   "outputs": [
    {
     "ename": "ModuleNotFoundError",
     "evalue": "No module named 'SimpleITK'",
     "output_type": "error",
     "traceback": [
      "\u001b[0;31m---------------------------------------------------------------------------\u001b[0m",
      "\u001b[0;31mModuleNotFoundError\u001b[0m                       Traceback (most recent call last)",
      "\u001b[0;32m<ipython-input-5-4e5374014392>\u001b[0m in \u001b[0;36m<module>\u001b[0;34m()\u001b[0m\n\u001b[0;32m----> 1\u001b[0;31m \u001b[0;32mimport\u001b[0m \u001b[0mSimpleITK\u001b[0m \u001b[0;32mas\u001b[0m \u001b[0msitk\u001b[0m\u001b[0;34m\u001b[0m\u001b[0m\n\u001b[0m\u001b[1;32m      2\u001b[0m \u001b[0;32mimport\u001b[0m \u001b[0mnumpy\u001b[0m \u001b[0;32mas\u001b[0m \u001b[0mnp\u001b[0m\u001b[0;34m\u001b[0m\u001b[0m\n",
      "\u001b[0;31mModuleNotFoundError\u001b[0m: No module named 'SimpleITK'"
     ]
    }
   ],
   "source": [
    "import SimpleITK as sitk\n",
    "import numpy as np"
   ]
  },
  {
   "cell_type": "markdown",
   "metadata": {
    "colab_type": "text",
    "id": "C_4Knj5tDcqp"
   },
   "source": [
    "Data Visualisations"
   ]
  },
  {
   "cell_type": "code",
   "execution_count": 2,
   "metadata": {
    "colab": {
     "autoexec": {
      "startup": false,
      "wait_interval": 0
     },
     "base_uri": "https://localhost:8080/",
     "height": 34
    },
    "colab_type": "code",
    "executionInfo": {
     "elapsed": 9405,
     "status": "ok",
     "timestamp": 1530521095121,
     "user": {
      "displayName": "JADE SANJAY",
      "photoUrl": "https://lh3.googleusercontent.com/a/default-user=s128",
      "userId": "113026688115779524991"
     },
     "user_tz": -330
    },
    "id": "8jouFNsLC6ON",
    "outputId": "c1bf446c-2e89-449e-ed34-c1ef041d573c"
   },
   "outputs": [
    {
     "ename": "FileNotFoundError",
     "evalue": "[Errno 2] No such file or directory: 'HG/0001'",
     "output_type": "error",
     "traceback": [
      "\u001b[0;31m---------------------------------------------------------------------------\u001b[0m",
      "\u001b[0;31mFileNotFoundError\u001b[0m                         Traceback (most recent call last)",
      "\u001b[0;32m<ipython-input-2-b0d3a18747d6>\u001b[0m in \u001b[0;36m<module>\u001b[0;34m()\u001b[0m\n\u001b[1;32m      1\u001b[0m \u001b[0;32mimport\u001b[0m \u001b[0mos\u001b[0m\u001b[0;34m\u001b[0m\u001b[0m\n\u001b[1;32m      2\u001b[0m \u001b[0mpath\u001b[0m \u001b[0;34m=\u001b[0m \u001b[0;34m'HG/0001'\u001b[0m\u001b[0;34m\u001b[0m\u001b[0m\n\u001b[0;32m----> 3\u001b[0;31m \u001b[0mp\u001b[0m \u001b[0;34m=\u001b[0m \u001b[0mos\u001b[0m\u001b[0;34m.\u001b[0m\u001b[0mlistdir\u001b[0m\u001b[0;34m(\u001b[0m\u001b[0mpath\u001b[0m\u001b[0;34m)\u001b[0m\u001b[0;34m\u001b[0m\u001b[0m\n\u001b[0m\u001b[1;32m      4\u001b[0m \u001b[0mp\u001b[0m\u001b[0;34m.\u001b[0m\u001b[0msort\u001b[0m\u001b[0;34m(\u001b[0m\u001b[0mkey\u001b[0m\u001b[0;34m=\u001b[0m\u001b[0mstr\u001b[0m\u001b[0;34m.\u001b[0m\u001b[0mlower\u001b[0m\u001b[0;34m)\u001b[0m\u001b[0;34m\u001b[0m\u001b[0m\n\u001b[1;32m      5\u001b[0m \u001b[0marr\u001b[0m \u001b[0;34m=\u001b[0m \u001b[0;34m[\u001b[0m\u001b[0;34m]\u001b[0m\u001b[0;34m\u001b[0m\u001b[0m\n",
      "\u001b[0;31mFileNotFoundError\u001b[0m: [Errno 2] No such file or directory: 'HG/0001'"
     ]
    }
   ],
   "source": [
    "import os\n",
    "path = 'HG/0001'\n",
    "p = os.listdir(path) #\n",
    "p.sort(key=str.lower) #sort AbbcDdTZz\n",
    "arr = []\n",
    "for i in range(len(p)):\n",
    "    if(i != 4):\n",
    "        p1 = os.listdir(path+'/'+p[i])\n",
    "        p1.sort()\n",
    "        img = sitk.ReadImage(path+'/'+p[i]+'/'+p1[-1])\n",
    "        arr.append(sitk.GetArrayFromImage(img))\n",
    "    else:\n",
    "        p1 = os.listdir(path+'/'+p[i])\n",
    "        img = sitk.ReadImage(path+'/'+p[i]+'/'+p1[0])\n",
    "        Y_labels = sitk.GetArrayFromImage(img) \n",
    "        print(Y_labels.shape)\n",
    "data = np.zeros((Y_labels.shape[1],Y_labels.shape[0],Y_labels.shape[2],4))\n",
    "for i in range(Y_labels.shape[1]):\n",
    "    data[i,:,:,0] = arr[0][:,i,:]\n",
    "    data[i,:,:,1] = arr[1][:,i,:]\n",
    "    data[i,:,:,2] = arr[2][:,i,:]\n",
    "    data[i,:,:,3] = arr[3][:,i,:]"
   ]
  },
  {
   "cell_type": "code",
   "execution_count": 4,
   "metadata": {
    "colab": {
     "autoexec": {
      "startup": false,
      "wait_interval": 0
     },
     "base_uri": "https://localhost:8080/",
     "height": 286
    },
    "colab_type": "code",
    "executionInfo": {
     "elapsed": 2010,
     "status": "ok",
     "timestamp": 1530521248995,
     "user": {
      "displayName": "JADE SANJAY",
      "photoUrl": "https://lh3.googleusercontent.com/a/default-user=s128",
      "userId": "113026688115779524991"
     },
     "user_tz": -330
    },
    "id": "YF_sD99fDsMS",
    "outputId": "f50e6fea-03a7-4663-eb65-d304607d3c14"
   },
   "outputs": [
    {
     "name": "stderr",
     "output_type": "stream",
     "text": [
      "/home/piotr/anaconda3/lib/python3.6/site-packages/matplotlib/font_manager.py:278: UserWarning: Matplotlib is building the font cache using fc-list. This may take a moment.\n",
      "  'Matplotlib is building the font cache using fc-list. '\n"
     ]
    },
    {
     "name": "stdout",
     "output_type": "stream",
     "text": [
      "Populating the interactive namespace from numpy and matplotlib\n"
     ]
    },
    {
     "ename": "NameError",
     "evalue": "name 'data' is not defined",
     "output_type": "error",
     "traceback": [
      "\u001b[0;31m---------------------------------------------------------------------------\u001b[0m",
      "\u001b[0;31mNameError\u001b[0m                                 Traceback (most recent call last)",
      "\u001b[0;32m<ipython-input-4-5565f1e33ee8>\u001b[0m in \u001b[0;36m<module>\u001b[0;34m()\u001b[0m\n\u001b[1;32m      1\u001b[0m \u001b[0mget_ipython\u001b[0m\u001b[0;34m(\u001b[0m\u001b[0;34m)\u001b[0m\u001b[0;34m.\u001b[0m\u001b[0mrun_line_magic\u001b[0m\u001b[0;34m(\u001b[0m\u001b[0;34m'pylab'\u001b[0m\u001b[0;34m,\u001b[0m \u001b[0;34m'inline'\u001b[0m\u001b[0;34m)\u001b[0m\u001b[0;34m\u001b[0m\u001b[0m\n\u001b[1;32m      2\u001b[0m \u001b[0;32mimport\u001b[0m \u001b[0mmatplotlib\u001b[0m\u001b[0;34m.\u001b[0m\u001b[0mpyplot\u001b[0m \u001b[0;32mas\u001b[0m \u001b[0mplt\u001b[0m\u001b[0;34m\u001b[0m\u001b[0m\n\u001b[0;32m----> 3\u001b[0;31m \u001b[0mimg\u001b[0m \u001b[0;34m=\u001b[0m \u001b[0mdata\u001b[0m\u001b[0;34m[\u001b[0m\u001b[0;36m126\u001b[0m\u001b[0;34m,\u001b[0m\u001b[0;34m:\u001b[0m\u001b[0;34m,\u001b[0m\u001b[0;34m:\u001b[0m\u001b[0;34m,\u001b[0m\u001b[0;36m0\u001b[0m\u001b[0;34m]\u001b[0m\u001b[0;34m\u001b[0m\u001b[0m\n\u001b[0m\u001b[1;32m      4\u001b[0m \u001b[0mimgplot\u001b[0m \u001b[0;34m=\u001b[0m \u001b[0mplt\u001b[0m\u001b[0;34m.\u001b[0m\u001b[0mimshow\u001b[0m\u001b[0;34m(\u001b[0m\u001b[0mimg\u001b[0m\u001b[0;34m)\u001b[0m\u001b[0;34m\u001b[0m\u001b[0m\n\u001b[1;32m      5\u001b[0m \u001b[0mplt\u001b[0m\u001b[0;34m.\u001b[0m\u001b[0mshow\u001b[0m\u001b[0;34m(\u001b[0m\u001b[0;34m)\u001b[0m\u001b[0;34m\u001b[0m\u001b[0m\n",
      "\u001b[0;31mNameError\u001b[0m: name 'data' is not defined"
     ]
    }
   ],
   "source": [
    "%pylab inline\n",
    "import matplotlib.pyplot as plt\n",
    "img = data[126,:,:,0]\n",
    "imgplot = plt.imshow(img)\n",
    "plt.show()\n",
    "plt.imsave('slice_126_4',img,cmap='gray')"
   ]
  },
  {
   "cell_type": "code",
   "execution_count": 28,
   "metadata": {
    "colab": {
     "autoexec": {
      "startup": false,
      "wait_interval": 0
     },
     "base_uri": "https://localhost:8080/",
     "height": 286
    },
    "colab_type": "code",
    "executionInfo": {
     "elapsed": 1332,
     "status": "ok",
     "timestamp": 1530521823230,
     "user": {
      "displayName": "JADE SANJAY",
      "photoUrl": "https://lh3.googleusercontent.com/a/default-user=s128",
      "userId": "113026688115779524991"
     },
     "user_tz": -330
    },
    "id": "1CzZ3CRFFZcc",
    "outputId": "863edaa0-fe3c-4617-888e-102a3e9db4ba"
   },
   "outputs": [
    {
     "name": "stdout",
     "output_type": "stream",
     "text": [
      "Populating the interactive namespace from numpy and matplotlib\n"
     ]
    },
    {
     "data": {
      "image/png": "[encoded data removed]",
      "text/plain": [
       "<matplotlib.figure.Figure at 0x7fc00e836b00>"
      ]
     },
     "metadata": {
      "tags": []
     },
     "output_type": "display_data"
    }
   ],
   "source": [
    "%pylab inline\n",
    "import matplotlib.pyplot as plt\n",
    "img = Y_labels[:,126,:]\n",
    "imgplot = plt.imshow(img)\n",
    "plt.show()\n",
    "#plt.imsave('slice_126_GT',img,cmap='gray')"
   ]
  },
  {
   "cell_type": "code",
   "execution_count": 3,
   "metadata": {
    "colab": {
     "autoexec": {
      "startup": false,
      "wait_interval": 0
     }
    },
    "colab_type": "code",
    "id": "e_lf8FfWH6rp"
   },
   "outputs": [],
   "source": [
    "def model_gen(input_dim,x,y,slice_no):\n",
    "    X1 = []\n",
    "    X2 = []\n",
    "    Y = []\n",
    "  \n",
    "    for i in range(int((input_dim)/2),y.shape[0]-int((input_dim)/2)):\n",
    "        for j in range(int((input_dim)/2),y.shape[2]-int((input_dim)/2)):\n",
    "            #Filtering all 0 patches\n",
    "            if(x[i-16:i+17,j-16:j+17,:].any != 0):\n",
    "                X2.append(x[i-16:i+17,j-16:j+17,:])\n",
    "                X1.append(x[i-int((input_dim)/2):i+int((input_dim)/2)+1,j-int((input_dim)/2):j+int((input_dim)/2)+1,:])\n",
    "                Y.append(y[i,slice_no,j])\n",
    "      \n",
    "      \n",
    "    X1 = np.asarray(X1)\n",
    "    X2 = np.asarray(X2)\n",
    "    Y = np.asarray(Y)\n",
    "    d = [X1,X2,Y]\n",
    "    return d"
   ]
  },
  {
   "cell_type": "code",
   "execution_count": 0,
   "metadata": {
    "colab": {
     "autoexec": {
      "startup": false,
      "wait_interval": 0
     }
    },
    "colab_type": "code",
    "id": "UWtPN8gyImhA"
   },
   "outputs": [],
   "source": [
    "def data_gen(data, y, slice_no, model_no):\n",
    "    d = [] \n",
    "    x = data[slice_no]\n",
    "    #filtering all 0 slices and non-tumor slices\n",
    "    if(x.any() != 0 and y.any() != 0):\n",
    "        if(model_no == 0):\n",
    "            X1 = []\n",
    "            for i in range(16,159):\n",
    "                for j in range(16,199):\n",
    "                    if(x[i-16:i+17,j-16:j+17,:].all != 0):\n",
    "                        X1.append(x[i-16:i+17,j-16:j+17,:])\n",
    "            Y1 = []\n",
    "            for i in range(16,159):\n",
    "                for j in range(16,199):\n",
    "                    if(x[i-16:i+17,j-16:j+17,:].all != 0):\n",
    "                        Y1.append(y[i,slice_no,j]) \n",
    "            X1 = np.asarray(X1)\n",
    "            Y1 = np.asarray(Y1)\n",
    "            d = [X1,Y1]\n",
    "        elif(model_no == 1):\n",
    "            d = model_gen(65,x,y,slice_no)\n",
    "        elif(model_no == 2):\n",
    "            d = model_gen(56,x,y,slice_no)\n",
    "        elif(model_no == 3):\n",
    "            d = model_gen(53,x,y,slice_no)  \n",
    "    \n",
    "    return d   "
   ]
  },
  {
   "cell_type": "markdown",
   "metadata": {
    "colab_type": "text",
    "id": "D2hFDjvtIqnZ"
   },
   "source": [
    "Model Definations"
   ]
  },
  {
   "cell_type": "code",
   "execution_count": 8,
   "metadata": {
    "colab": {
     "autoexec": {
      "startup": false,
      "wait_interval": 0
     },
     "base_uri": "https://localhost:8080/",
     "height": 34
    },
    "colab_type": "code",
    "executionInfo": {
     "elapsed": 3646,
     "status": "ok",
     "timestamp": 1530529627607,
     "user": {
      "displayName": "JADE SANJAY",
      "photoUrl": "https://lh3.googleusercontent.com/a/default-user=s128",
      "userId": "113026688115779524991"
     },
     "user_tz": -330
    },
    "id": "mC04RAU-rJsx",
    "outputId": "790f2f5f-527a-4d06-8b32-91835ebd9c38"
   },
   "outputs": [
    {
     "name": "stderr",
     "output_type": "stream",
     "text": [
      "Using TensorFlow backend.\n"
     ]
    }
   ],
   "source": [
    "import keras"
   ]
  },
  {
   "cell_type": "code",
   "execution_count": 0,
   "metadata": {
    "colab": {
     "autoexec": {
      "startup": false,
      "wait_interval": 0
     }
    },
    "colab_type": "code",
    "id": "9RoFhcIyIovB"
   },
   "outputs": [],
   "source": [
    "import keras\n",
    "from keras import layers\n",
    "from keras.layers import Input, Dense, Activation, ZeroPadding2D, BatchNormalization, Flatten, Conv2D, Lambda,Concatenate\n",
    "from keras.layers import AveragePooling2D, MaxPooling2D, Dropout, GlobalMaxPooling2D, GlobalAveragePooling2D, Add\n",
    "from keras.models import Model\n",
    "from keras import regularizers\n",
    "from keras.preprocessing import image\n",
    "from keras.utils import layer_utils\n",
    "from keras.utils.data_utils import get_file\n",
    "from keras.applications.imagenet_utils import preprocess_input\n",
    "from keras.initializers import glorot_normal\n",
    "#import pydot\n",
    "from IPython.display import SVG\n",
    "from keras.utils.vis_utils import model_to_dot\n",
    "from keras.utils import plot_model"
   ]
  },
  {
   "cell_type": "code",
   "execution_count": 37,
   "metadata": {
    "colab": {
     "autoexec": {
      "startup": false,
      "wait_interval": 0
     },
     "base_uri": "https://localhost:8080/",
     "height": 37
    },
    "colab_type": "code",
    "executionInfo": {
     "elapsed": 1559,
     "status": "ok",
     "timestamp": 1530218651194,
     "user": {
      "displayName": "JADE SANJAY",
      "photoUrl": "https://lh3.googleusercontent.com/a/default-user=s128",
      "userId": "113026688115779524991"
     },
     "user_tz": -330
    },
    "id": "dnfO8pP3IxRZ",
    "outputId": "8a55392b-6a6d-42a9-b28d-96a6a252b025"
   },
   "outputs": [],
   "source": [
    "def two_path(X_input):\n",
    "    # Local path Conv1\n",
    "    X = Conv2D(64,(7,7),strides=(1,1),padding='valid')(X_input)\n",
    "    # Batch-norm\n",
    "    X = BatchNormalization()(X)\n",
    "    X1 = Conv2D(64,(7,7),strides=(1,1),padding='valid')(X_input)\n",
    "    X1 = BatchNormalization()(X1)\n",
    "    # Max-out\n",
    "    X = layers.Maximum()([X,X1])\n",
    "    X = Conv2D(64,(4,4),strides=(1,1),padding='valid',activation='relu')(X)\n",
    "  \n",
    "    # Global path\n",
    "    X2 = Conv2D(160,(13,13),strides=(1,1),padding='valid')(X_input)\n",
    "    X2 = BatchNormalization()(X2)\n",
    "    X21 = Conv2D(160,(13,13),strides=(1,1),padding='valid')(X_input)\n",
    "    X21 = BatchNormalization()(X21)\n",
    "    # Max-out\n",
    "    X2 = layers.Maximum()([X2,X21])\n",
    "  \n",
    "    # Local path Conv2\n",
    "    X3 = Conv2D(64,(3,3),strides=(1,1),padding='valid')(X)\n",
    "    X3 = BatchNormalization()(X3)\n",
    "    X31 =  Conv2D(64,(3,3),strides=(1,1),padding='valid')(X)\n",
    "    X31 = BatchNormalization()(X31)\n",
    "    X = layers.Maximum()([X3,X31])\n",
    "    X = Conv2D(64,(2,2),strides=(1,1),padding='valid',activation='relu')(X)\n",
    "  \n",
    "    # Merging the two paths\n",
    "    X = Concatenate()([X2,X])\n",
    "    #X = Conv2D(5,(21,21),strides=(1,1))(X)\n",
    "    #X = Activation('softmax')(X)\n",
    "  \n",
    "    #model = Model(inputs = X_input, outputs = X)\n",
    "    return X"
   ]
  },
  {
   "cell_type": "code",
   "execution_count": 38,
   "metadata": {
    "colab": {
     "autoexec": {
      "startup": false,
      "wait_interval": 0
     },
     "base_uri": "https://localhost:8080/",
     "height": 37
    },
    "colab_type": "code",
    "executionInfo": {
     "elapsed": 1552,
     "status": "ok",
     "timestamp": 1530218654348,
     "user": {
      "displayName": "JADE SANJAY",
      "photoUrl": "https://lh3.googleusercontent.com/a/default-user=s128",
      "userId": "113026688115779524991"
     },
     "user_tz": -330
    },
    "id": "SaclX3B4I5e8",
    "outputId": "6bfa5966-f971-40c8-a453-b19475034275"
   },
   "outputs": [],
   "source": [
    "def input_cascade(input_shape1,input_shape2):\n",
    "  \n",
    "    X1_input = Input(input_shape1)\n",
    "    # 1st two-path of cascade\n",
    "    X1 = two_path(X1_input)\n",
    "    X1 = Conv2D(5,(21,21),strides=(1,1),padding='valid',activation='relu')(X1)\n",
    "    X1 = BatchNormalization()(X1)\n",
    "  \n",
    "    X2_input = Input(input_shape2)\n",
    "    # Concatenating the output of 1st to input of 2nd\n",
    "    X2_input1 = Concatenate()([X1,X2_input])\n",
    "    #X2_input1 = Input(tensor = X2_input1)\n",
    "    X2 = two_path(X2_input1)\n",
    "    # Fully convolutional softmax classification\n",
    "    X2 = Conv2D(5,(21,21),strides=(1,1),padding='valid')(X2)\n",
    "    X2 = BatchNormalization()(X2)\n",
    "    X2 = Activation('softmax')(X2)\n",
    "  \n",
    "    model = Model(inputs=[X1_input,X2_input],outputs=X2)\n",
    "    return model\n",
    "  "
   ]
  },
  {
   "cell_type": "code",
   "execution_count": 39,
   "metadata": {
    "colab": {
     "autoexec": {
      "startup": false,
      "wait_interval": 0
     },
     "base_uri": "https://localhost:8080/",
     "height": 37
    },
    "colab_type": "code",
    "executionInfo": {
     "elapsed": 1337,
     "status": "ok",
     "timestamp": 1530218663661,
     "user": {
      "displayName": "JADE SANJAY",
      "photoUrl": "https://lh3.googleusercontent.com/a/default-user=s128",
      "userId": "113026688115779524991"
     },
     "user_tz": -330
    },
    "id": "gl0YpjrhI6QU",
    "outputId": "22bd6ef2-e35f-4e1c-c0e8-e2185b3a9196"
   },
   "outputs": [],
   "source": [
    "def MFCcascade(input_shape1,input_shape2):\n",
    "  \n",
    "    # 1st two-path\n",
    "    X1_input = Input(input_shape1)\n",
    "    X1 = two_path(X1_input)\n",
    "    X1 = Conv2D(5,(21,21),strides=(1,1),padding='valid',activation='relu')(X1)\n",
    "    X1 = BatchNormalization()(X1)\n",
    "    #X1 = MaxPooling2D((2,2))(X1)\n",
    "  \n",
    "    #2nd two-path \n",
    "    X2_input = Input(input_shape2)\n",
    "    X2 = two_path(X2_input)\n",
    "  \n",
    "    # Concatenate before classification\n",
    "    X2 = Concatenate()([X1,X2])\n",
    "    X2 = Conv2D(5,(21,21),strides=(1,1),padding='valid',activation='relu')(X2)\n",
    "    X2 = BatchNormalization()(X2)\n",
    "    X2 = Activation('softmax')(X2)\n",
    "  \n",
    "    model = Model(inputs=[X1_input,X2_input],outputs=X2)\n",
    "    return model\n",
    "  "
   ]
  },
  {
   "cell_type": "code",
   "execution_count": 12,
   "metadata": {
    "colab": {
     "autoexec": {
      "startup": false,
      "wait_interval": 0
     },
     "base_uri": "https://localhost:8080/",
     "height": 37
    },
    "colab_type": "code",
    "executionInfo": {
     "elapsed": 1181,
     "status": "ok",
     "timestamp": 1530343163002,
     "user": {
      "displayName": "JADE SANJAY",
      "photoUrl": "https://lh3.googleusercontent.com/a/default-user=s128",
      "userId": "113026688115779524991"
     },
     "user_tz": -330
    },
    "id": "vhQlYq3Ojdvu",
    "outputId": "4b1c0119-390a-4c12-daf5-ed2aae1a6823"
   },
   "outputs": [],
   "source": [
    "def two_pathcnn(input_shape):\n",
    "  \n",
    "    X_input = Input(input_shape)\n",
    "  \n",
    "    X = Conv2D(64,(7,7),strides=(1,1),padding='valid')(X_input)\n",
    "    X = BatchNormalization()(X)\n",
    "    X1 = Conv2D(64,(7,7),strides=(1,1),padding='valid')(X_input)\n",
    "    X1 = BatchNormalization()(X1)\n",
    "    X = layers.Maximum()([X,X1])\n",
    "    X = Conv2D(64,(4,4),strides=(1,1),padding='valid',activation='relu')(X)\n",
    "  \n",
    "    X2 = Conv2D(160,(13,13),strides=(1,1),padding='valid')(X_input)\n",
    "    X2 = BatchNormalization()(X2)\n",
    "    X21 = Conv2D(160,(13,13),strides=(1,1),padding='valid')(X_input)\n",
    "    X21 = BatchNormalization()(X21)\n",
    "    X2 = layers.Maximum()([X2,X21])\n",
    "  \n",
    "    X3 = Conv2D(64,(3,3),strides=(1,1),padding='valid')(X)\n",
    "    X3 = BatchNormalization()(X3)\n",
    "    X31 =  Conv2D(64,(3,3),strides=(1,1),padding='valid')(X)\n",
    "    X31 = BatchNormalization()(X31)\n",
    "    X = layers.Maximum()([X3,X31])\n",
    "    X = Conv2D(64,(2,2),strides=(1,1),padding='valid',activation='relu')(X)\n",
    "  \n",
    "    X = Concatenate()([X2,X])\n",
    "    X = Conv2D(5,(21,21),strides=(1,1),padding='valid')(X)\n",
    "    X = Activation('softmax')(X)\n",
    "  \n",
    "    model = Model(inputs = X_input, outputs = X)\n",
    "    return model "
   ]
  },
  {
   "cell_type": "code",
   "execution_count": 13,
   "metadata": {
    "colab": {
     "autoexec": {
      "startup": false,
      "wait_interval": 0
     },
     "base_uri": "https://localhost:8080/",
     "height": 918
    },
    "colab_type": "code",
    "executionInfo": {
     "elapsed": 1538,
     "status": "ok",
     "timestamp": 1530343164873,
     "user": {
      "displayName": "JADE SANJAY",
      "photoUrl": "https://lh3.googleusercontent.com/a/default-user=s128",
      "userId": "113026688115779524991"
     },
     "user_tz": -330
    },
    "id": "f1wniC4jjhbe",
    "outputId": "ad78ac31-905a-4993-fa9e-0f3d4915baa4"
   },
   "outputs": [
    {
     "name": "stdout",
     "output_type": "stream",
     "text": [
      "__________________________________________________________________________________________________\n",
      "Layer (type)                    Output Shape         Param #     Connected to                     \n",
      "==================================================================================================\n",
      "input_1 (InputLayer)            (None, 33, 33, 4)    0                                            \n",
      "__________________________________________________________________________________________________\n",
      "conv2d_1 (Conv2D)               (None, 27, 27, 64)   12608       input_1[0][0]                    \n",
      "__________________________________________________________________________________________________\n",
      "conv2d_2 (Conv2D)               (None, 27, 27, 64)   12608       input_1[0][0]                    \n",
      "__________________________________________________________________________________________________\n",
      "batch_normalization_1 (BatchNor (None, 27, 27, 64)   256         conv2d_1[0][0]                   \n",
      "__________________________________________________________________________________________________\n",
      "batch_normalization_2 (BatchNor (None, 27, 27, 64)   256         conv2d_2[0][0]                   \n",
      "__________________________________________________________________________________________________\n",
      "maximum_1 (Maximum)             (None, 27, 27, 64)   0           batch_normalization_1[0][0]      \n",
      "                                                                 batch_normalization_2[0][0]      \n",
      "__________________________________________________________________________________________________\n",
      "conv2d_3 (Conv2D)               (None, 24, 24, 64)   65600       maximum_1[0][0]                  \n",
      "__________________________________________________________________________________________________\n",
      "conv2d_6 (Conv2D)               (None, 22, 22, 64)   36928       conv2d_3[0][0]                   \n",
      "__________________________________________________________________________________________________\n",
      "conv2d_7 (Conv2D)               (None, 22, 22, 64)   36928       conv2d_3[0][0]                   \n",
      "__________________________________________________________________________________________________\n",
      "conv2d_4 (Conv2D)               (None, 21, 21, 160)  108320      input_1[0][0]                    \n",
      "__________________________________________________________________________________________________\n",
      "conv2d_5 (Conv2D)               (None, 21, 21, 160)  108320      input_1[0][0]                    \n",
      "__________________________________________________________________________________________________\n",
      "batch_normalization_5 (BatchNor (None, 22, 22, 64)   256         conv2d_6[0][0]                   \n",
      "__________________________________________________________________________________________________\n",
      "batch_normalization_6 (BatchNor (None, 22, 22, 64)   256         conv2d_7[0][0]                   \n",
      "__________________________________________________________________________________________________\n",
      "batch_normalization_3 (BatchNor (None, 21, 21, 160)  640         conv2d_4[0][0]                   \n",
      "__________________________________________________________________________________________________\n",
      "batch_normalization_4 (BatchNor (None, 21, 21, 160)  640         conv2d_5[0][0]                   \n",
      "__________________________________________________________________________________________________\n",
      "maximum_3 (Maximum)             (None, 22, 22, 64)   0           batch_normalization_5[0][0]      \n",
      "                                                                 batch_normalization_6[0][0]      \n",
      "__________________________________________________________________________________________________\n",
      "maximum_2 (Maximum)             (None, 21, 21, 160)  0           batch_normalization_3[0][0]      \n",
      "                                                                 batch_normalization_4[0][0]      \n",
      "__________________________________________________________________________________________________\n",
      "conv2d_8 (Conv2D)               (None, 21, 21, 64)   16448       maximum_3[0][0]                  \n",
      "__________________________________________________________________________________________________\n",
      "concatenate_1 (Concatenate)     (None, 21, 21, 224)  0           maximum_2[0][0]                  \n",
      "                                                                 conv2d_8[0][0]                   \n",
      "__________________________________________________________________________________________________\n",
      "conv2d_9 (Conv2D)               (None, 1, 1, 5)      493925      concatenate_1[0][0]              \n",
      "__________________________________________________________________________________________________\n",
      "activation_1 (Activation)       (None, 1, 1, 5)      0           conv2d_9[0][0]                   \n",
      "==================================================================================================\n",
      "Total params: 893,989\n",
      "Trainable params: 892,837\n",
      "Non-trainable params: 1,152\n",
      "__________________________________________________________________________________________________\n"
     ]
    }
   ],
   "source": [
    "m0 = two_pathcnn((33,33,4))\n",
    "m0.summary()"
   ]
  },
  {
   "cell_type": "code",
   "execution_count": 1,
   "metadata": {
    "colab": {
     "autoexec": {
      "startup": false,
      "wait_interval": 0
     },
     "base_uri": "https://localhost:8080/",
     "height": 1785
    },
    "colab_type": "code",
    "executionInfo": {
     "elapsed": 3016,
     "status": "ok",
     "timestamp": 1530218679710,
     "user": {
      "displayName": "JADE SANJAY",
      "photoUrl": "https://lh3.googleusercontent.com/a/default-user=s128",
      "userId": "113026688115779524991"
     },
     "user_tz": -330
    },
    "id": "R1fVPzaOI8lL",
    "outputId": "944f8e12-7e7b-4ba6-e33f-e4180795dc29"
   },
   "outputs": [
    {
     "ename": "NameError",
     "evalue": "name 'MFCcascade' is not defined",
     "output_type": "error",
     "traceback": [
      "\u001b[0;31m---------------------------------------------------------------------------\u001b[0m",
      "\u001b[0;31mNameError\u001b[0m                                 Traceback (most recent call last)",
      "\u001b[0;32m<ipython-input-1-e90033f958cd>\u001b[0m in \u001b[0;36m<module>\u001b[0;34m()\u001b[0m\n\u001b[0;32m----> 1\u001b[0;31m \u001b[0mm1\u001b[0m \u001b[0;34m=\u001b[0m \u001b[0mMFCcascade\u001b[0m\u001b[0;34m(\u001b[0m\u001b[0;34m(\u001b[0m\u001b[0;36m53\u001b[0m\u001b[0;34m,\u001b[0m\u001b[0;36m53\u001b[0m\u001b[0;34m,\u001b[0m\u001b[0;36m4\u001b[0m\u001b[0;34m)\u001b[0m\u001b[0;34m,\u001b[0m\u001b[0;34m(\u001b[0m\u001b[0;36m33\u001b[0m\u001b[0;34m,\u001b[0m\u001b[0;36m33\u001b[0m\u001b[0;34m,\u001b[0m\u001b[0;36m4\u001b[0m\u001b[0;34m)\u001b[0m\u001b[0;34m)\u001b[0m\u001b[0;34m\u001b[0m\u001b[0m\n\u001b[0m\u001b[1;32m      2\u001b[0m \u001b[0mm1\u001b[0m\u001b[0;34m.\u001b[0m\u001b[0msummary\u001b[0m\u001b[0;34m(\u001b[0m\u001b[0;34m)\u001b[0m\u001b[0;34m\u001b[0m\u001b[0m\n",
      "\u001b[0;31mNameError\u001b[0m: name 'MFCcascade' is not defined"
     ]
    }
   ],
   "source": [
    "m1 = MFCcascade((53,53,4),(33,33,4))\n",
    "m1.summary()"
   ]
  },
  {
   "cell_type": "code",
   "execution_count": 41,
   "metadata": {
    "colab": {
     "autoexec": {
      "startup": false,
      "wait_interval": 0
     },
     "base_uri": "https://localhost:8080/",
     "height": 1785
    },
    "colab_type": "code",
    "executionInfo": {
     "elapsed": 2560,
     "status": "ok",
     "timestamp": 1530218699165,
     "user": {
      "displayName": "JADE SANJAY",
      "photoUrl": "https://lh3.googleusercontent.com/a/default-user=s128",
      "userId": "113026688115779524991"
     },
     "user_tz": -330
    },
    "id": "eLgC18wqJAFi",
    "outputId": "80fba97b-83fc-4de0-80ca-5e658eeec448"
   },
   "outputs": [
    {
     "name": "stdout",
     "output_type": "stream",
     "text": [
      "__________________________________________________________________________________________________\n",
      "Layer (type)                    Output Shape         Param #     Connected to                     \n",
      "==================================================================================================\n",
      "input_3 (InputLayer)            (None, 65, 65, 4)    0                                            \n",
      "__________________________________________________________________________________________________\n",
      "conv2d_19 (Conv2D)              (None, 59, 59, 64)   12608       input_3[0][0]                    \n",
      "__________________________________________________________________________________________________\n",
      "conv2d_20 (Conv2D)              (None, 59, 59, 64)   12608       input_3[0][0]                    \n",
      "__________________________________________________________________________________________________\n",
      "batch_normalization_15 (BatchNo (None, 59, 59, 64)   256         conv2d_19[0][0]                  \n",
      "__________________________________________________________________________________________________\n",
      "batch_normalization_16 (BatchNo (None, 59, 59, 64)   256         conv2d_20[0][0]                  \n",
      "__________________________________________________________________________________________________\n",
      "maximum_7 (Maximum)             (None, 59, 59, 64)   0           batch_normalization_15[0][0]     \n",
      "                                                                 batch_normalization_16[0][0]     \n",
      "__________________________________________________________________________________________________\n",
      "conv2d_21 (Conv2D)              (None, 56, 56, 64)   65600       maximum_7[0][0]                  \n",
      "__________________________________________________________________________________________________\n",
      "conv2d_24 (Conv2D)              (None, 54, 54, 64)   36928       conv2d_21[0][0]                  \n",
      "__________________________________________________________________________________________________\n",
      "conv2d_25 (Conv2D)              (None, 54, 54, 64)   36928       conv2d_21[0][0]                  \n",
      "__________________________________________________________________________________________________\n",
      "conv2d_22 (Conv2D)              (None, 53, 53, 160)  108320      input_3[0][0]                    \n",
      "__________________________________________________________________________________________________\n",
      "conv2d_23 (Conv2D)              (None, 53, 53, 160)  108320      input_3[0][0]                    \n",
      "__________________________________________________________________________________________________\n",
      "batch_normalization_19 (BatchNo (None, 54, 54, 64)   256         conv2d_24[0][0]                  \n",
      "__________________________________________________________________________________________________\n",
      "batch_normalization_20 (BatchNo (None, 54, 54, 64)   256         conv2d_25[0][0]                  \n",
      "__________________________________________________________________________________________________\n",
      "batch_normalization_17 (BatchNo (None, 53, 53, 160)  640         conv2d_22[0][0]                  \n",
      "__________________________________________________________________________________________________\n",
      "batch_normalization_18 (BatchNo (None, 53, 53, 160)  640         conv2d_23[0][0]                  \n",
      "__________________________________________________________________________________________________\n",
      "maximum_9 (Maximum)             (None, 54, 54, 64)   0           batch_normalization_19[0][0]     \n",
      "                                                                 batch_normalization_20[0][0]     \n",
      "__________________________________________________________________________________________________\n",
      "maximum_8 (Maximum)             (None, 53, 53, 160)  0           batch_normalization_17[0][0]     \n",
      "                                                                 batch_normalization_18[0][0]     \n",
      "__________________________________________________________________________________________________\n",
      "conv2d_26 (Conv2D)              (None, 53, 53, 64)   16448       maximum_9[0][0]                  \n",
      "__________________________________________________________________________________________________\n",
      "concatenate_4 (Concatenate)     (None, 53, 53, 224)  0           maximum_8[0][0]                  \n",
      "                                                                 conv2d_26[0][0]                  \n",
      "__________________________________________________________________________________________________\n",
      "conv2d_27 (Conv2D)              (None, 33, 33, 5)    493925      concatenate_4[0][0]              \n",
      "__________________________________________________________________________________________________\n",
      "batch_normalization_21 (BatchNo (None, 33, 33, 5)    20          conv2d_27[0][0]                  \n",
      "__________________________________________________________________________________________________\n",
      "input_4 (InputLayer)            (None, 33, 33, 4)    0                                            \n",
      "__________________________________________________________________________________________________\n",
      "concatenate_5 (Concatenate)     (None, 33, 33, 9)    0           batch_normalization_21[0][0]     \n",
      "                                                                 input_4[0][0]                    \n",
      "__________________________________________________________________________________________________\n",
      "conv2d_28 (Conv2D)              (None, 27, 27, 64)   28288       concatenate_5[0][0]              \n",
      "__________________________________________________________________________________________________\n",
      "conv2d_29 (Conv2D)              (None, 27, 27, 64)   28288       concatenate_5[0][0]              \n",
      "__________________________________________________________________________________________________\n",
      "batch_normalization_22 (BatchNo (None, 27, 27, 64)   256         conv2d_28[0][0]                  \n",
      "__________________________________________________________________________________________________\n",
      "batch_normalization_23 (BatchNo (None, 27, 27, 64)   256         conv2d_29[0][0]                  \n",
      "__________________________________________________________________________________________________\n",
      "maximum_10 (Maximum)            (None, 27, 27, 64)   0           batch_normalization_22[0][0]     \n",
      "                                                                 batch_normalization_23[0][0]     \n",
      "__________________________________________________________________________________________________\n",
      "conv2d_30 (Conv2D)              (None, 24, 24, 64)   65600       maximum_10[0][0]                 \n",
      "__________________________________________________________________________________________________\n",
      "conv2d_33 (Conv2D)              (None, 22, 22, 64)   36928       conv2d_30[0][0]                  \n",
      "__________________________________________________________________________________________________\n",
      "conv2d_34 (Conv2D)              (None, 22, 22, 64)   36928       conv2d_30[0][0]                  \n",
      "__________________________________________________________________________________________________\n",
      "conv2d_31 (Conv2D)              (None, 21, 21, 160)  243520      concatenate_5[0][0]              \n",
      "__________________________________________________________________________________________________\n",
      "conv2d_32 (Conv2D)              (None, 21, 21, 160)  243520      concatenate_5[0][0]              \n",
      "__________________________________________________________________________________________________\n",
      "batch_normalization_26 (BatchNo (None, 22, 22, 64)   256         conv2d_33[0][0]                  \n",
      "__________________________________________________________________________________________________\n",
      "batch_normalization_27 (BatchNo (None, 22, 22, 64)   256         conv2d_34[0][0]                  \n",
      "__________________________________________________________________________________________________\n",
      "batch_normalization_24 (BatchNo (None, 21, 21, 160)  640         conv2d_31[0][0]                  \n",
      "__________________________________________________________________________________________________\n",
      "batch_normalization_25 (BatchNo (None, 21, 21, 160)  640         conv2d_32[0][0]                  \n",
      "__________________________________________________________________________________________________\n",
      "maximum_12 (Maximum)            (None, 22, 22, 64)   0           batch_normalization_26[0][0]     \n",
      "                                                                 batch_normalization_27[0][0]     \n",
      "__________________________________________________________________________________________________\n",
      "maximum_11 (Maximum)            (None, 21, 21, 160)  0           batch_normalization_24[0][0]     \n",
      "                                                                 batch_normalization_25[0][0]     \n",
      "__________________________________________________________________________________________________\n",
      "conv2d_35 (Conv2D)              (None, 21, 21, 64)   16448       maximum_12[0][0]                 \n",
      "__________________________________________________________________________________________________\n",
      "concatenate_6 (Concatenate)     (None, 21, 21, 224)  0           maximum_11[0][0]                 \n",
      "                                                                 conv2d_35[0][0]                  \n",
      "__________________________________________________________________________________________________\n",
      "conv2d_36 (Conv2D)              (None, 1, 1, 5)      493925      concatenate_6[0][0]              \n",
      "__________________________________________________________________________________________________\n",
      "batch_normalization_28 (BatchNo (None, 1, 1, 5)      20          conv2d_36[0][0]                  \n",
      "__________________________________________________________________________________________________\n",
      "activation_2 (Activation)       (None, 1, 1, 5)      0           batch_normalization_28[0][0]     \n",
      "==================================================================================================\n",
      "Total params: 2,089,778\n",
      "Trainable params: 2,087,454\n",
      "Non-trainable params: 2,324\n",
      "__________________________________________________________________________________________________\n"
     ]
    }
   ],
   "source": [
    "m1 = input_cascade((65,65,4),(33,33,4))\n",
    "m1.summary()"
   ]
  },
  {
   "cell_type": "markdown",
   "metadata": {
    "colab_type": "text",
    "id": "UW2ETYf1JIT4"
   },
   "source": [
    "Training the architectures"
   ]
  },
  {
   "cell_type": "code",
   "execution_count": 10,
   "metadata": {
    "colab": {
     "autoexec": {
      "startup": false,
      "wait_interval": 0
     },
     "base_uri": "https://localhost:8080/",
     "height": 17
    },
    "colab_type": "code",
    "executionInfo": {
     "elapsed": 991,
     "status": "ok",
     "timestamp": 1530517856711,
     "user": {
      "displayName": "JADE SANJAY",
      "photoUrl": "https://lh3.googleusercontent.com/a/default-user=s128",
      "userId": "113026688115779524991"
     },
     "user_tz": -330
    },
    "id": "VMOzNLPrJE8n",
    "outputId": "70f2e1b3-7a5f-4041-a0ca-00c4e5e5b873"
   },
   "outputs": [],
   "source": [
    "from sklearn.utils import class_weight"
   ]
  },
  {
   "cell_type": "code",
   "execution_count": 0,
   "metadata": {
    "colab": {
     "autoexec": {
      "startup": false,
      "wait_interval": 0
     }
    },
    "colab_type": "code",
    "id": "s1WA0h4fJPeI"
   },
   "outputs": [],
   "source": [
    "m1 = keras.models.load_model('trial_0001_input_cascasde_acc.h5')"
   ]
  },
  {
   "cell_type": "markdown",
   "metadata": {
    "colab_type": "text",
    "id": "mcHSBKCdiAqW"
   },
   "source": [
    "Training for the InputCascadeCNN model"
   ]
  },
  {
   "cell_type": "code",
   "execution_count": 0,
   "metadata": {
    "colab": {
     "autoexec": {
      "startup": false,
      "wait_interval": 0
     }
    },
    "colab_type": "code",
    "id": "HCh_e-WQJWAX"
   },
   "outputs": [],
   "source": [
    "fold = os.listdir('HG/')\n",
    "fold.sort(key=str.lower) \n",
    "\n",
    "for path in fold:\n",
    "    print(path)\n",
    "    path = 'HG/'+path\n",
    "    p = os.listdir(path)\n",
    "    p.sort(key=str.lower)\n",
    "    arr = []\n",
    "    \n",
    "    # Reading from 4 images and creating 4 channel slice-wise \n",
    "    for i in range(len(p)):\n",
    "        if(i != 4):\n",
    "            p1 = os.listdir(path+'/'+p[i])\n",
    "            p1.sort()\n",
    "            img = sitk.ReadImage(path+'/'+p[i]+'/'+p1[-1])\n",
    "            arr.append(sitk.GetArrayFromImage(img))\n",
    "        else:\n",
    "            p1 = os.listdir(path+'/'+p[i])\n",
    "            img = sitk.ReadImage(path+'/'+p[i]+'/'+p1[0])\n",
    "            Y_labels = sitk.GetArrayFromImage(img)\n",
    "    data = np.zeros((Y_labels.shape[1],Y_labels.shape[0],Y_labels.shape[2],4))\n",
    "    for i in range(Y_labels.shape[1]):\n",
    "        data[i,:,:,0] = arr[0][:,i,:]\n",
    "        data[i,:,:,1] = arr[1][:,i,:]\n",
    "        data[i,:,:,2] = arr[2][:,i,:]\n",
    "        data[i,:,:,3] = arr[3][:,i,:]\n",
    "    print(data.shape)\n",
    "    info = []\n",
    "    \n",
    "    # Creating patches for each slice and training(slice-wise)\n",
    "    for i in range(data.shape[0]):\n",
    "        d = data_gen(data,Y_labels,i,1)\n",
    "        if(len(d) != 0):\n",
    "            y = np.zeros((d[2].shape[0],1,1,5))\n",
    "            for j in range(y.shape[0]):\n",
    "                y[j,:,:,d[2][j]] = 1\n",
    "            X1 = d[0]\n",
    "            X2 = d[1]\n",
    "            class_weights = class_weight.compute_class_weight('balanced',\n",
    "                                                          np.unique(d[2]),\n",
    "                                                          d[2])\n",
    "        print('slice no:'+str(i))\n",
    "        info.append(m1.fit([X1,X2],y,epochs=5,batch_size=128,class_weight= class_weights))\n",
    "        m1.save('trial_0001_input_cascasde_acc.h5')\n"
   ]
  },
  {
   "cell_type": "markdown",
   "metadata": {
    "colab_type": "text",
    "id": "hvl-uvjA67nS"
   },
   "source": [
    "Testing"
   ]
  },
  {
   "cell_type": "code",
   "execution_count": 0,
   "metadata": {
    "colab": {
     "autoexec": {
      "startup": false,
      "wait_interval": 0
     }
    },
    "colab_type": "code",
    "id": "aQBXB0Bn8LFK"
   },
   "outputs": [],
   "source": [
    "model = keras.models.load_model('trial_0001_input_cascasde_acc.h5')"
   ]
  },
  {
   "cell_type": "code",
   "execution_count": 16,
   "metadata": {
    "colab": {
     "autoexec": {
      "startup": false,
      "wait_interval": 0
     },
     "base_uri": "https://localhost:8080/",
     "height": 34
    },
    "colab_type": "code",
    "executionInfo": {
     "elapsed": 37380,
     "status": "ok",
     "timestamp": 1530533161058,
     "user": {
      "displayName": "JADE SANJAY",
      "photoUrl": "https://lh3.googleusercontent.com/a/default-user=s128",
      "userId": "113026688115779524991"
     },
     "user_tz": -330
    },
    "id": "bPg1k-1o6_xQ",
    "outputId": "2f9fa3e4-69ab-4fd7-bbaf-2fa27395da35"
   },
   "outputs": [
    {
     "name": "stdout",
     "output_type": "stream",
     "text": [
      "0.792288049029622\n"
     ]
    }
   ],
   "source": [
    "path = 'HG/0027'\n",
    "p = os.listdir(path)\n",
    "p.sort(key=str.lower)\n",
    "arr = []\n",
    "for i in range(len(p)):\n",
    "    if(i != 4):\n",
    "        p1 = os.listdir(path+'/'+p[i])\n",
    "        p1.sort()\n",
    "        img = sitk.ReadImage(path+'/'+p[i]+'/'+p1[-1])\n",
    "        arr.append(sitk.GetArrayFromImage(img))\n",
    "    else:\n",
    "        p1 = os.listdir(path+'/'+p[i])\n",
    "        img = sitk.ReadImage(path+'/'+p[i]+'/'+p1[0])\n",
    "        Y_labels = sitk.GetArrayFromImage(img)    \n",
    "data = np.zeros((Y_labels.shape[1],Y_labels.shape[0],Y_labels.shape[2],4))\n",
    "for i in range(Y_labels.shape[1]):\n",
    "    data[i,:,:,0] = arr[0][:,i,:]\n",
    "    data[i,:,:,1] = arr[1][:,i,:]\n",
    "    data[i,:,:,2] = arr[2][:,i,:]\n",
    "    data[i,:,:,3] = arr[3][:,i,:]\n",
    "info = []\n",
    " \n",
    "    \n",
    "d = data_gen(data,Y_labels,113,3)\n",
    "if(len(d) != 0):\n",
    "    y = np.zeros((d[2].shape[0],1,1,5))\n",
    "    for j in range(y.shape[0]):\n",
    "        y[j,:,:,d[2][j]] = 1\n",
    "    X1 = d[0]\n",
    "    X2 = d[1]\n",
    "    pred = model1.predict([X1,X2],batch_size = 256) \n",
    "    pred = np.around(pred)\n",
    "    #print(pred.shape)\n",
    "    pred1 = np.argmax(pred.reshape(y.shape[0],5)[:,1:4],axis = 1)\n",
    "    y2 = np.argmax(y.reshape(y.shape[0],5)[:,1:4],axis = 1)\n",
    "    f1 = metrics.f1_score(y2,pred1,average='micro')\n",
    "    print(f1)"
   ]
  },
  {
   "cell_type": "code",
   "execution_count": 0,
   "metadata": {
    "colab": {
     "autoexec": {
      "startup": false,
      "wait_interval": 0
     }
    },
    "colab_type": "code",
    "id": "Mo2zV30v69EP"
   },
   "outputs": [],
   "source": [
    "pred = model.predict([X1,X2],batch_size = 256)"
   ]
  },
  {
   "cell_type": "code",
   "execution_count": 55,
   "metadata": {
    "colab": {
     "autoexec": {
      "startup": false,
      "wait_interval": 0
     },
     "base_uri": "https://localhost:8080/",
     "height": 34
    },
    "colab_type": "code",
    "executionInfo": {
     "elapsed": 952,
     "status": "ok",
     "timestamp": 1530529151429,
     "user": {
      "displayName": "JADE SANJAY",
      "photoUrl": "https://lh3.googleusercontent.com/a/default-user=s128",
      "userId": "113026688115779524991"
     },
     "user_tz": -330
    },
    "id": "6L0zsHc7Jt1d",
    "outputId": "bb1b3799-72f2-4d35-b4a9-27712bb585a2"
   },
   "outputs": [
    {
     "name": "stdout",
     "output_type": "stream",
     "text": [
      "(16268, 1, 1, 5)\n"
     ]
    }
   ],
   "source": [
    "pred = np.around(pred)\n",
    "print(pred.shape)\n",
    "pred1 = np.argmax(pred.reshape(y.shape[0],5)[:,1:4],axis = 1)\n",
    "y2 = np.argmax(y.reshape(y.shape[0],5)[:,1:4],axis = 1)"
   ]
  },
  {
   "cell_type": "code",
   "execution_count": 0,
   "metadata": {
    "colab": {
     "autoexec": {
      "startup": false,
      "wait_interval": 0
     }
    },
    "colab_type": "code",
    "id": "2nEwEX3s7z2w"
   },
   "outputs": [],
   "source": [
    "from sklearn import metrics"
   ]
  },
  {
   "cell_type": "code",
   "execution_count": 56,
   "metadata": {
    "colab": {
     "autoexec": {
      "startup": false,
      "wait_interval": 0
     },
     "base_uri": "https://localhost:8080/",
     "height": 34
    },
    "colab_type": "code",
    "executionInfo": {
     "elapsed": 1041,
     "status": "ok",
     "timestamp": 1530529152511,
     "user": {
      "displayName": "JADE SANJAY",
      "photoUrl": "https://lh3.googleusercontent.com/a/default-user=s128",
      "userId": "113026688115779524991"
     },
     "user_tz": -330
    },
    "id": "wLNqgyHt7u3A",
    "outputId": "4f429e92-6e89-45f3-97bd-f21198913f95"
   },
   "outputs": [
    {
     "data": {
      "text/plain": [
       "0.927710843373494"
      ]
     },
     "execution_count": 56,
     "metadata": {
      "tags": []
     },
     "output_type": "execute_result"
    }
   ],
   "source": [
    "f1 = metrics.f1_score(y2,pred1,average='micro')\n",
    "f1"
   ]
  },
  {
   "cell_type": "code",
   "execution_count": 0,
   "metadata": {
    "colab": {
     "autoexec": {
      "startup": false,
      "wait_interval": 0
     }
    },
    "colab_type": "code",
    "id": "KjFQkJy8-7LQ"
   },
   "outputs": [],
   "source": [
    "model1 = keras.models.load_model('trial_MFCcascade_acc.h5')"
   ]
  },
  {
   "cell_type": "code",
   "execution_count": 0,
   "metadata": {
    "colab": {
     "autoexec": {
      "startup": false,
      "wait_interval": 0
     }
    },
    "colab_type": "code",
    "id": "Hd08lzus-5u4"
   },
   "outputs": [],
   "source": [
    "pred2 = model1.predict([X1,X2],batch_size = 256)\n"
   ]
  },
  {
   "cell_type": "code",
   "execution_count": 0,
   "metadata": {
    "colab": {
     "autoexec": {
      "startup": false,
      "wait_interval": 0
     }
    },
    "colab_type": "code",
    "id": "Tg44hHMbdntD"
   },
   "outputs": [],
   "source": [
    "pred2 = np.around(pred2)\n",
    "pred3 = np.argmax(pred2.reshape(y.shape[0],5)[:,1:4],axis = 1)\n",
    "y2 = np.argmax(y.reshape(y.shape[0],5)[:,1:4],axis = 1)"
   ]
  },
  {
   "cell_type": "code",
   "execution_count": 62,
   "metadata": {
    "colab": {
     "autoexec": {
      "startup": false,
      "wait_interval": 0
     },
     "base_uri": "https://localhost:8080/",
     "height": 34
    },
    "colab_type": "code",
    "executionInfo": {
     "elapsed": 909,
     "status": "ok",
     "timestamp": 1530529245272,
     "user": {
      "displayName": "JADE SANJAY",
      "photoUrl": "https://lh3.googleusercontent.com/a/default-user=s128",
      "userId": "113026688115779524991"
     },
     "user_tz": -330
    },
    "id": "VKrjYzv1_Nef",
    "outputId": "1cda5a3f-26df-4529-b75a-19b1070842b8"
   },
   "outputs": [
    {
     "data": {
      "text/plain": [
       "0.7986210418794688"
      ]
     },
     "execution_count": 62,
     "metadata": {
      "tags": []
     },
     "output_type": "execute_result"
    }
   ],
   "source": [
    "f1 = metrics.f1_score(y2,pred3,average='micro')\n",
    "f1"
   ]
  },
  {
   "cell_type": "code",
   "execution_count": 0,
   "metadata": {
    "colab": {
     "autoexec": {
      "startup": false,
      "wait_interval": 0
     }
    },
    "colab_type": "code",
    "id": "buksOE6F_qev"
   },
   "outputs": [],
   "source": []
  }
 ],
 "metadata": {
  "accelerator": "GPU",
  "colab": {
   "collapsed_sections": [],
   "default_view": {},
   "name": "FinalCode.ipynb",
   "provenance": [],
   "version": "0.3.2",
   "views": {}
  },
  "kernelspec": {
   "display_name": "Python 3",
   "language": "python",
   "name": "python3"
  },
  "language_info": {
   "codemirror_mode": {
    "name": "ipython",
    "version": 3
   },
   "file_extension": ".py",
   "mimetype": "text/x-python",
   "name": "python",
   "nbconvert_exporter": "python",
   "pygments_lexer": "ipython3",
   "version": "3.6.5"
  }
 },
 "nbformat": 4,
 "nbformat_minor": 1
}
